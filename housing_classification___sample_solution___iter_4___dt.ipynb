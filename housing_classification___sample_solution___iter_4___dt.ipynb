{
 "cells": [
  {
   "cell_type": "code",
   "execution_count": 1,
   "id": "f382057f-f6aa-4e48-8cb0-7b33e9764c85",
   "metadata": {
    "gradient": {
     "editing": false,
     "id": "f382057f-f6aa-4e48-8cb0-7b33e9764c85",
     "kernelId": "9ac81ae2-16a2-425a-bee3-0c27193c91cd"
    }
   },
   "outputs": [],
   "source": [
    "import pandas as pd\n",
    "from sklearn.preprocessing import OrdinalEncoder\n",
    "from sklearn.compose import ColumnTransformer\n",
    "from sklearn.model_selection import train_test_split\n",
    "from sklearn.impute import SimpleImputer\n",
    "from sklearn.preprocessing import StandardScaler\n",
    "from sklearn.tree import DecisionTreeClassifier\n",
    "from sklearn.metrics import accuracy_score\n",
    "from sklearn.metrics import ConfusionMatrixDisplay\n",
    "from sklearn.pipeline import make_pipeline\n",
    "from sklearn.model_selection import GridSearchCV\n",
    "from sklearn.preprocessing import OneHotEncoder\n",
    "from sklearn.metrics import f1_score"
   ]
  },
  {
   "cell_type": "code",
   "execution_count": 2,
   "id": "94e05866-00e2-450b-a110-1828b75b9917",
   "metadata": {
    "gradient": {
     "editing": false,
     "id": "94e05866-00e2-450b-a110-1828b75b9917",
     "kernelId": "9ac81ae2-16a2-425a-bee3-0c27193c91cd"
    }
   },
   "outputs": [],
   "source": [
    "housing = pd.read_csv('housing-classification-iter4.csv')"
   ]
  },
  {
   "cell_type": "code",
   "execution_count": 3,
   "id": "21e78749-923e-453e-8064-a66009bbc2e2",
   "metadata": {
    "gradient": {
     "editing": false,
     "id": "21e78749-923e-453e-8064-a66009bbc2e2",
     "kernelId": "9ac81ae2-16a2-425a-bee3-0c27193c91cd"
    }
   },
   "outputs": [
    {
     "data": {
      "text/html": [
       "<div>\n",
       "<style scoped>\n",
       "    .dataframe tbody tr th:only-of-type {\n",
       "        vertical-align: middle;\n",
       "    }\n",
       "\n",
       "    .dataframe tbody tr th {\n",
       "        vertical-align: top;\n",
       "    }\n",
       "\n",
       "    .dataframe thead th {\n",
       "        text-align: right;\n",
       "    }\n",
       "</style>\n",
       "<table border=\"1\" class=\"dataframe\">\n",
       "  <thead>\n",
       "    <tr style=\"text-align: right;\">\n",
       "      <th></th>\n",
       "      <th>LotArea</th>\n",
       "      <th>LotFrontage</th>\n",
       "      <th>TotalBsmtSF</th>\n",
       "      <th>BedroomAbvGr</th>\n",
       "      <th>Fireplaces</th>\n",
       "      <th>PoolArea</th>\n",
       "      <th>GarageCars</th>\n",
       "      <th>WoodDeckSF</th>\n",
       "      <th>ScreenPorch</th>\n",
       "      <th>Expensive</th>\n",
       "      <th>...</th>\n",
       "      <th>CentralAir</th>\n",
       "      <th>Foundation</th>\n",
       "      <th>ExterQual</th>\n",
       "      <th>ExterCond</th>\n",
       "      <th>BsmtQual</th>\n",
       "      <th>BsmtCond</th>\n",
       "      <th>BsmtExposure</th>\n",
       "      <th>BsmtFinType1</th>\n",
       "      <th>KitchenQual</th>\n",
       "      <th>FireplaceQu</th>\n",
       "    </tr>\n",
       "  </thead>\n",
       "  <tbody>\n",
       "    <tr>\n",
       "      <th>0</th>\n",
       "      <td>8450</td>\n",
       "      <td>65.0</td>\n",
       "      <td>856</td>\n",
       "      <td>3</td>\n",
       "      <td>0</td>\n",
       "      <td>0</td>\n",
       "      <td>2</td>\n",
       "      <td>0</td>\n",
       "      <td>0</td>\n",
       "      <td>0</td>\n",
       "      <td>...</td>\n",
       "      <td>Y</td>\n",
       "      <td>PConc</td>\n",
       "      <td>Gd</td>\n",
       "      <td>TA</td>\n",
       "      <td>Gd</td>\n",
       "      <td>TA</td>\n",
       "      <td>No</td>\n",
       "      <td>GLQ</td>\n",
       "      <td>Gd</td>\n",
       "      <td>NaN</td>\n",
       "    </tr>\n",
       "    <tr>\n",
       "      <th>1</th>\n",
       "      <td>9600</td>\n",
       "      <td>80.0</td>\n",
       "      <td>1262</td>\n",
       "      <td>3</td>\n",
       "      <td>1</td>\n",
       "      <td>0</td>\n",
       "      <td>2</td>\n",
       "      <td>298</td>\n",
       "      <td>0</td>\n",
       "      <td>0</td>\n",
       "      <td>...</td>\n",
       "      <td>Y</td>\n",
       "      <td>CBlock</td>\n",
       "      <td>TA</td>\n",
       "      <td>TA</td>\n",
       "      <td>Gd</td>\n",
       "      <td>TA</td>\n",
       "      <td>Gd</td>\n",
       "      <td>ALQ</td>\n",
       "      <td>TA</td>\n",
       "      <td>TA</td>\n",
       "    </tr>\n",
       "    <tr>\n",
       "      <th>2</th>\n",
       "      <td>11250</td>\n",
       "      <td>68.0</td>\n",
       "      <td>920</td>\n",
       "      <td>3</td>\n",
       "      <td>1</td>\n",
       "      <td>0</td>\n",
       "      <td>2</td>\n",
       "      <td>0</td>\n",
       "      <td>0</td>\n",
       "      <td>0</td>\n",
       "      <td>...</td>\n",
       "      <td>Y</td>\n",
       "      <td>PConc</td>\n",
       "      <td>Gd</td>\n",
       "      <td>TA</td>\n",
       "      <td>Gd</td>\n",
       "      <td>TA</td>\n",
       "      <td>Mn</td>\n",
       "      <td>GLQ</td>\n",
       "      <td>Gd</td>\n",
       "      <td>TA</td>\n",
       "    </tr>\n",
       "    <tr>\n",
       "      <th>3</th>\n",
       "      <td>9550</td>\n",
       "      <td>60.0</td>\n",
       "      <td>756</td>\n",
       "      <td>3</td>\n",
       "      <td>1</td>\n",
       "      <td>0</td>\n",
       "      <td>3</td>\n",
       "      <td>0</td>\n",
       "      <td>0</td>\n",
       "      <td>0</td>\n",
       "      <td>...</td>\n",
       "      <td>Y</td>\n",
       "      <td>BrkTil</td>\n",
       "      <td>TA</td>\n",
       "      <td>TA</td>\n",
       "      <td>TA</td>\n",
       "      <td>Gd</td>\n",
       "      <td>No</td>\n",
       "      <td>ALQ</td>\n",
       "      <td>Gd</td>\n",
       "      <td>Gd</td>\n",
       "    </tr>\n",
       "    <tr>\n",
       "      <th>4</th>\n",
       "      <td>14260</td>\n",
       "      <td>84.0</td>\n",
       "      <td>1145</td>\n",
       "      <td>4</td>\n",
       "      <td>1</td>\n",
       "      <td>0</td>\n",
       "      <td>3</td>\n",
       "      <td>192</td>\n",
       "      <td>0</td>\n",
       "      <td>0</td>\n",
       "      <td>...</td>\n",
       "      <td>Y</td>\n",
       "      <td>PConc</td>\n",
       "      <td>Gd</td>\n",
       "      <td>TA</td>\n",
       "      <td>Gd</td>\n",
       "      <td>TA</td>\n",
       "      <td>Av</td>\n",
       "      <td>GLQ</td>\n",
       "      <td>Gd</td>\n",
       "      <td>TA</td>\n",
       "    </tr>\n",
       "  </tbody>\n",
       "</table>\n",
       "<p>5 rows × 24 columns</p>\n",
       "</div>"
      ],
      "text/plain": [
       "   LotArea  LotFrontage  TotalBsmtSF  BedroomAbvGr  Fireplaces  PoolArea  \\\n",
       "0     8450         65.0          856             3           0         0   \n",
       "1     9600         80.0         1262             3           1         0   \n",
       "2    11250         68.0          920             3           1         0   \n",
       "3     9550         60.0          756             3           1         0   \n",
       "4    14260         84.0         1145             4           1         0   \n",
       "\n",
       "   GarageCars  WoodDeckSF  ScreenPorch  Expensive  ... CentralAir Foundation  \\\n",
       "0           2           0            0          0  ...          Y      PConc   \n",
       "1           2         298            0          0  ...          Y     CBlock   \n",
       "2           2           0            0          0  ...          Y      PConc   \n",
       "3           3           0            0          0  ...          Y     BrkTil   \n",
       "4           3         192            0          0  ...          Y      PConc   \n",
       "\n",
       "  ExterQual ExterCond BsmtQual BsmtCond BsmtExposure BsmtFinType1 KitchenQual  \\\n",
       "0        Gd        TA       Gd       TA           No          GLQ          Gd   \n",
       "1        TA        TA       Gd       TA           Gd          ALQ          TA   \n",
       "2        Gd        TA       Gd       TA           Mn          GLQ          Gd   \n",
       "3        TA        TA       TA       Gd           No          ALQ          Gd   \n",
       "4        Gd        TA       Gd       TA           Av          GLQ          Gd   \n",
       "\n",
       "  FireplaceQu  \n",
       "0         NaN  \n",
       "1          TA  \n",
       "2          TA  \n",
       "3          Gd  \n",
       "4          TA  \n",
       "\n",
       "[5 rows x 24 columns]"
      ]
     },
     "execution_count": 3,
     "metadata": {},
     "output_type": "execute_result"
    }
   ],
   "source": [
    "housing.head()"
   ]
  },
  {
   "cell_type": "code",
   "execution_count": 4,
   "id": "2251d6bf-4a03-4a37-a700-76bef6a19d5b",
   "metadata": {
    "gradient": {
     "editing": false,
     "id": "2251d6bf-4a03-4a37-a700-76bef6a19d5b",
     "kernelId": "9ac81ae2-16a2-425a-bee3-0c27193c91cd"
    }
   },
   "outputs": [
    {
     "name": "stdout",
     "output_type": "stream",
     "text": [
      "<class 'pandas.core.frame.DataFrame'>\n",
      "RangeIndex: 1460 entries, 0 to 1459\n",
      "Data columns (total 24 columns):\n",
      " #   Column        Non-Null Count  Dtype  \n",
      "---  ------        --------------  -----  \n",
      " 0   LotArea       1460 non-null   int64  \n",
      " 1   LotFrontage   1201 non-null   float64\n",
      " 2   TotalBsmtSF   1460 non-null   int64  \n",
      " 3   BedroomAbvGr  1460 non-null   int64  \n",
      " 4   Fireplaces    1460 non-null   int64  \n",
      " 5   PoolArea      1460 non-null   int64  \n",
      " 6   GarageCars    1460 non-null   int64  \n",
      " 7   WoodDeckSF    1460 non-null   int64  \n",
      " 8   ScreenPorch   1460 non-null   int64  \n",
      " 9   Expensive     1460 non-null   int64  \n",
      " 10  MSZoning      1460 non-null   object \n",
      " 11  Condition1    1460 non-null   object \n",
      " 12  Heating       1460 non-null   object \n",
      " 13  Street        1460 non-null   object \n",
      " 14  CentralAir    1460 non-null   object \n",
      " 15  Foundation    1460 non-null   object \n",
      " 16  ExterQual     1460 non-null   object \n",
      " 17  ExterCond     1460 non-null   object \n",
      " 18  BsmtQual      1423 non-null   object \n",
      " 19  BsmtCond      1423 non-null   object \n",
      " 20  BsmtExposure  1422 non-null   object \n",
      " 21  BsmtFinType1  1423 non-null   object \n",
      " 22  KitchenQual   1460 non-null   object \n",
      " 23  FireplaceQu   770 non-null    object \n",
      "dtypes: float64(1), int64(9), object(14)\n",
      "memory usage: 273.9+ KB\n"
     ]
    }
   ],
   "source": [
    "housing.info()"
   ]
  },
  {
   "cell_type": "code",
   "execution_count": 5,
   "id": "d4a58c14-bec2-4f68-bda3-8c7ecb322c21",
   "metadata": {
    "gradient": {
     "editing": false,
     "id": "d4a58c14-bec2-4f68-bda3-8c7ecb322c21",
     "kernelId": "9ac81ae2-16a2-425a-bee3-0c27193c91cd"
    }
   },
   "outputs": [
    {
     "data": {
      "text/plain": [
       "True"
      ]
     },
     "execution_count": 5,
     "metadata": {},
     "output_type": "execute_result"
    }
   ],
   "source": [
    "housing.duplicated().any()"
   ]
  },
  {
   "cell_type": "code",
   "execution_count": 6,
   "id": "22b63362-338a-48ce-9349-fc5752b07373",
   "metadata": {
    "gradient": {
     "editing": false,
     "id": "22b63362-338a-48ce-9349-fc5752b07373",
     "kernelId": "9ac81ae2-16a2-425a-bee3-0c27193c91cd"
    }
   },
   "outputs": [],
   "source": [
    "housing.drop_duplicates(inplace=True)"
   ]
  },
  {
   "cell_type": "code",
   "execution_count": 7,
   "id": "cc137b7c-8cff-4708-ab17-d80dbbbdae9d",
   "metadata": {
    "gradient": {
     "editing": false,
     "id": "cc137b7c-8cff-4708-ab17-d80dbbbdae9d",
     "kernelId": "9ac81ae2-16a2-425a-bee3-0c27193c91cd"
    }
   },
   "outputs": [
    {
     "data": {
      "text/plain": [
       "LotArea         False\n",
       "LotFrontage      True\n",
       "TotalBsmtSF     False\n",
       "BedroomAbvGr    False\n",
       "Fireplaces      False\n",
       "PoolArea        False\n",
       "GarageCars      False\n",
       "WoodDeckSF      False\n",
       "ScreenPorch     False\n",
       "Expensive       False\n",
       "MSZoning        False\n",
       "Condition1      False\n",
       "Heating         False\n",
       "Street          False\n",
       "CentralAir      False\n",
       "Foundation      False\n",
       "ExterQual       False\n",
       "ExterCond       False\n",
       "BsmtQual         True\n",
       "BsmtCond         True\n",
       "BsmtExposure     True\n",
       "BsmtFinType1     True\n",
       "KitchenQual     False\n",
       "FireplaceQu      True\n",
       "dtype: bool"
      ]
     },
     "execution_count": 7,
     "metadata": {},
     "output_type": "execute_result"
    }
   ],
   "source": [
    "housing.isna().any()"
   ]
  },
  {
   "cell_type": "markdown",
   "id": "4778196f-21b5-4504-bf89-97621c1f08b9",
   "metadata": {
    "gradient": {
     "editing": false,
     "id": "4778196f-21b5-4504-bf89-97621c1f08b9",
     "kernelId": "9ac81ae2-16a2-425a-bee3-0c27193c91cd"
    }
   },
   "source": [
    "# Categorical data"
   ]
  },
  {
   "cell_type": "markdown",
   "id": "08869025-9bae-47a9-b520-76070e78e212",
   "metadata": {
    "gradient": {
     "editing": false,
     "id": "08869025-9bae-47a9-b520-76070e78e212",
     "kernelId": "9ac81ae2-16a2-425a-bee3-0c27193c91cd"
    }
   },
   "source": [
    "## OneHotEncoder vs OrdinalEncoder"
   ]
  },
  {
   "cell_type": "markdown",
   "id": "51ea60b3-c3a9-4063-a074-52e150e170e1",
   "metadata": {
    "gradient": {
     "editing": false,
     "id": "51ea60b3-c3a9-4063-a074-52e150e170e1",
     "kernelId": "9ac81ae2-16a2-425a-bee3-0c27193c91cd"
    }
   },
   "source": [
    "We've been using the term categorical to describe non-numerical data up to this point. Our categorical data can be divided into two subcategories. One of these subcategories is also known as Categorical, which is a bit confusing. The other subcategory is Ordinal.\n",
    "\n",
    "Categorical variables are made up of two or more categories with no inherent order.\n",
    "* male, female, non-binary\n",
    "* German, Indian, Russian, Vietnamese\n",
    "\n",
    "Ordinal variables are similar to categorical variables, but there is a distinct order to them.\n",
    "* very bad, bad, ok, good, very good\n",
    "* high school graduate, bachelor's degree holder, master's degree holder, doctorate holder\n",
    "\n",
    "By giving Categorical variables extra columns, OneHotEncoder ensures that there is no implied order between them. We can, however, create a numerical order with Ordinal variables (e.g., very bad = 0, bad = 1, ok = 2, good = 3, very good = 4).\n",
    "\n",
    "OneHotEncoder converts Categorical variables into extra columns. OrdinalEncoder converts Ordinal variables to numerical values.\n",
    "\n",
    "We now need to determine which of our categorical columns are Ordinal, and which are Categorical"
   ]
  },
  {
   "cell_type": "code",
   "execution_count": 8,
   "id": "7256f7c3-a0e7-408f-8f8e-3eb32d583807",
   "metadata": {
    "gradient": {
     "editing": false,
     "id": "7256f7c3-a0e7-408f-8f8e-3eb32d583807",
     "kernelId": "9ac81ae2-16a2-425a-bee3-0c27193c91cd"
    }
   },
   "outputs": [
    {
     "data": {
      "text/plain": [
       "['MSZoning',\n",
       " 'Condition1',\n",
       " 'Heating',\n",
       " 'Street',\n",
       " 'CentralAir',\n",
       " 'Foundation',\n",
       " 'ExterQual',\n",
       " 'ExterCond',\n",
       " 'BsmtQual',\n",
       " 'BsmtCond',\n",
       " 'BsmtExposure',\n",
       " 'BsmtFinType1',\n",
       " 'KitchenQual',\n",
       " 'FireplaceQu']"
      ]
     },
     "execution_count": 8,
     "metadata": {},
     "output_type": "execute_result"
    }
   ],
   "source": [
    "list(housing.select_dtypes(include=['object']))"
   ]
  },
  {
   "cell_type": "markdown",
   "id": "39f9b2c4-6b5a-4107-99eb-764a5a99b0ca",
   "metadata": {
    "gradient": {
     "editing": false,
     "id": "39f9b2c4-6b5a-4107-99eb-764a5a99b0ca",
     "kernelId": "9ac81ae2-16a2-425a-bee3-0c27193c91cd"
    }
   },
   "source": [
    "Check these columns against data_description.txt to see which of these columns are ordinal"
   ]
  },
  {
   "cell_type": "code",
   "execution_count": 9,
   "id": "74201a1c-b723-4ba4-8a97-6aacedb5336e",
   "metadata": {
    "gradient": {
     "editing": false,
     "id": "74201a1c-b723-4ba4-8a97-6aacedb5336e",
     "kernelId": "9ac81ae2-16a2-425a-bee3-0c27193c91cd"
    }
   },
   "outputs": [],
   "source": [
    "ordinal_columns = ['ExterQual', 'ExterCond', 'BsmtQual', 'BsmtCond', 'BsmtExposure', 'BsmtFinType1', 'KitchenQual', 'FireplaceQu']"
   ]
  },
  {
   "cell_type": "code",
   "execution_count": 10,
   "id": "f462828f-39ed-4524-96ed-e0593e0ec21f",
   "metadata": {
    "gradient": {
     "editing": false,
     "id": "f462828f-39ed-4524-96ed-e0593e0ec21f",
     "kernelId": "9ac81ae2-16a2-425a-bee3-0c27193c91cd"
    }
   },
   "outputs": [
    {
     "data": {
      "text/html": [
       "<div>\n",
       "<style scoped>\n",
       "    .dataframe tbody tr th:only-of-type {\n",
       "        vertical-align: middle;\n",
       "    }\n",
       "\n",
       "    .dataframe tbody tr th {\n",
       "        vertical-align: top;\n",
       "    }\n",
       "\n",
       "    .dataframe thead th {\n",
       "        text-align: right;\n",
       "    }\n",
       "</style>\n",
       "<table border=\"1\" class=\"dataframe\">\n",
       "  <thead>\n",
       "    <tr style=\"text-align: right;\">\n",
       "      <th></th>\n",
       "      <th>ExterQual</th>\n",
       "      <th>ExterCond</th>\n",
       "      <th>BsmtQual</th>\n",
       "      <th>BsmtCond</th>\n",
       "      <th>BsmtExposure</th>\n",
       "      <th>BsmtFinType1</th>\n",
       "      <th>KitchenQual</th>\n",
       "      <th>FireplaceQu</th>\n",
       "    </tr>\n",
       "  </thead>\n",
       "  <tbody>\n",
       "    <tr>\n",
       "      <th>0</th>\n",
       "      <td>Gd</td>\n",
       "      <td>TA</td>\n",
       "      <td>Gd</td>\n",
       "      <td>TA</td>\n",
       "      <td>No</td>\n",
       "      <td>GLQ</td>\n",
       "      <td>Gd</td>\n",
       "      <td>NaN</td>\n",
       "    </tr>\n",
       "    <tr>\n",
       "      <th>1</th>\n",
       "      <td>TA</td>\n",
       "      <td>TA</td>\n",
       "      <td>Gd</td>\n",
       "      <td>TA</td>\n",
       "      <td>Gd</td>\n",
       "      <td>ALQ</td>\n",
       "      <td>TA</td>\n",
       "      <td>TA</td>\n",
       "    </tr>\n",
       "    <tr>\n",
       "      <th>2</th>\n",
       "      <td>Gd</td>\n",
       "      <td>TA</td>\n",
       "      <td>Gd</td>\n",
       "      <td>TA</td>\n",
       "      <td>Mn</td>\n",
       "      <td>GLQ</td>\n",
       "      <td>Gd</td>\n",
       "      <td>TA</td>\n",
       "    </tr>\n",
       "    <tr>\n",
       "      <th>3</th>\n",
       "      <td>TA</td>\n",
       "      <td>TA</td>\n",
       "      <td>TA</td>\n",
       "      <td>Gd</td>\n",
       "      <td>No</td>\n",
       "      <td>ALQ</td>\n",
       "      <td>Gd</td>\n",
       "      <td>Gd</td>\n",
       "    </tr>\n",
       "    <tr>\n",
       "      <th>4</th>\n",
       "      <td>Gd</td>\n",
       "      <td>TA</td>\n",
       "      <td>Gd</td>\n",
       "      <td>TA</td>\n",
       "      <td>Av</td>\n",
       "      <td>GLQ</td>\n",
       "      <td>Gd</td>\n",
       "      <td>TA</td>\n",
       "    </tr>\n",
       "    <tr>\n",
       "      <th>...</th>\n",
       "      <td>...</td>\n",
       "      <td>...</td>\n",
       "      <td>...</td>\n",
       "      <td>...</td>\n",
       "      <td>...</td>\n",
       "      <td>...</td>\n",
       "      <td>...</td>\n",
       "      <td>...</td>\n",
       "    </tr>\n",
       "    <tr>\n",
       "      <th>1455</th>\n",
       "      <td>TA</td>\n",
       "      <td>TA</td>\n",
       "      <td>Gd</td>\n",
       "      <td>TA</td>\n",
       "      <td>No</td>\n",
       "      <td>Unf</td>\n",
       "      <td>TA</td>\n",
       "      <td>TA</td>\n",
       "    </tr>\n",
       "    <tr>\n",
       "      <th>1456</th>\n",
       "      <td>TA</td>\n",
       "      <td>TA</td>\n",
       "      <td>Gd</td>\n",
       "      <td>TA</td>\n",
       "      <td>No</td>\n",
       "      <td>ALQ</td>\n",
       "      <td>TA</td>\n",
       "      <td>TA</td>\n",
       "    </tr>\n",
       "    <tr>\n",
       "      <th>1457</th>\n",
       "      <td>Ex</td>\n",
       "      <td>Gd</td>\n",
       "      <td>TA</td>\n",
       "      <td>Gd</td>\n",
       "      <td>No</td>\n",
       "      <td>GLQ</td>\n",
       "      <td>Gd</td>\n",
       "      <td>Gd</td>\n",
       "    </tr>\n",
       "    <tr>\n",
       "      <th>1458</th>\n",
       "      <td>TA</td>\n",
       "      <td>TA</td>\n",
       "      <td>TA</td>\n",
       "      <td>TA</td>\n",
       "      <td>Mn</td>\n",
       "      <td>GLQ</td>\n",
       "      <td>Gd</td>\n",
       "      <td>NaN</td>\n",
       "    </tr>\n",
       "    <tr>\n",
       "      <th>1459</th>\n",
       "      <td>Gd</td>\n",
       "      <td>TA</td>\n",
       "      <td>TA</td>\n",
       "      <td>TA</td>\n",
       "      <td>No</td>\n",
       "      <td>BLQ</td>\n",
       "      <td>TA</td>\n",
       "      <td>NaN</td>\n",
       "    </tr>\n",
       "  </tbody>\n",
       "</table>\n",
       "<p>1454 rows × 8 columns</p>\n",
       "</div>"
      ],
      "text/plain": [
       "     ExterQual ExterCond BsmtQual BsmtCond BsmtExposure BsmtFinType1  \\\n",
       "0           Gd        TA       Gd       TA           No          GLQ   \n",
       "1           TA        TA       Gd       TA           Gd          ALQ   \n",
       "2           Gd        TA       Gd       TA           Mn          GLQ   \n",
       "3           TA        TA       TA       Gd           No          ALQ   \n",
       "4           Gd        TA       Gd       TA           Av          GLQ   \n",
       "...        ...       ...      ...      ...          ...          ...   \n",
       "1455        TA        TA       Gd       TA           No          Unf   \n",
       "1456        TA        TA       Gd       TA           No          ALQ   \n",
       "1457        Ex        Gd       TA       Gd           No          GLQ   \n",
       "1458        TA        TA       TA       TA           Mn          GLQ   \n",
       "1459        Gd        TA       TA       TA           No          BLQ   \n",
       "\n",
       "     KitchenQual FireplaceQu  \n",
       "0             Gd         NaN  \n",
       "1             TA          TA  \n",
       "2             Gd          TA  \n",
       "3             Gd          Gd  \n",
       "4             Gd          TA  \n",
       "...          ...         ...  \n",
       "1455          TA          TA  \n",
       "1456          TA          TA  \n",
       "1457          Gd          Gd  \n",
       "1458          Gd         NaN  \n",
       "1459          TA         NaN  \n",
       "\n",
       "[1454 rows x 8 columns]"
      ]
     },
     "execution_count": 10,
     "metadata": {},
     "output_type": "execute_result"
    }
   ],
   "source": [
    "housing[ordinal_columns]"
   ]
  },
  {
   "cell_type": "markdown",
   "id": "4b59c846-a494-4867-8ff4-f91804757358",
   "metadata": {
    "gradient": {
     "editing": false,
     "id": "4b59c846-a494-4867-8ff4-f91804757358",
     "kernelId": "9ac81ae2-16a2-425a-bee3-0c27193c91cd"
    }
   },
   "source": [
    "## Implementing OrdinalEncoder"
   ]
  },
  {
   "cell_type": "markdown",
   "id": "10525900-b49c-480d-8844-c996a551aa8f",
   "metadata": {
    "gradient": {
     "editing": false,
     "id": "10525900-b49c-480d-8844-c996a551aa8f",
     "kernelId": "9ac81ae2-16a2-425a-bee3-0c27193c91cd"
    }
   },
   "source": [
    "OrdinalEncoder can't work if there are missing values, so first we need to fill in the blanks"
   ]
  },
  {
   "cell_type": "code",
   "execution_count": 11,
   "id": "ef11197c-c0c9-4827-9c6c-0c3b8c5cc7bd",
   "metadata": {
    "gradient": {
     "editing": false,
     "id": "ef11197c-c0c9-4827-9c6c-0c3b8c5cc7bd",
     "kernelId": "9ac81ae2-16a2-425a-bee3-0c27193c91cd"
    }
   },
   "outputs": [
    {
     "data": {
      "text/plain": [
       "ExterQual       False\n",
       "ExterCond       False\n",
       "BsmtQual         True\n",
       "BsmtCond         True\n",
       "BsmtExposure     True\n",
       "BsmtFinType1     True\n",
       "KitchenQual     False\n",
       "FireplaceQu      True\n",
       "dtype: bool"
      ]
     },
     "execution_count": 11,
     "metadata": {},
     "output_type": "execute_result"
    }
   ],
   "source": [
    "housing[ordinal_columns].isna().any()"
   ]
  },
  {
   "cell_type": "code",
   "execution_count": 12,
   "id": "096fac05-a6cd-4d96-ade5-3d2e25f37c00",
   "metadata": {
    "gradient": {
     "editing": false,
     "id": "096fac05-a6cd-4d96-ade5-3d2e25f37c00",
     "kernelId": "9ac81ae2-16a2-425a-bee3-0c27193c91cd"
    }
   },
   "outputs": [
    {
     "data": {
      "text/html": [
       "<div>\n",
       "<style scoped>\n",
       "    .dataframe tbody tr th:only-of-type {\n",
       "        vertical-align: middle;\n",
       "    }\n",
       "\n",
       "    .dataframe tbody tr th {\n",
       "        vertical-align: top;\n",
       "    }\n",
       "\n",
       "    .dataframe thead th {\n",
       "        text-align: right;\n",
       "    }\n",
       "</style>\n",
       "<table border=\"1\" class=\"dataframe\">\n",
       "  <thead>\n",
       "    <tr style=\"text-align: right;\">\n",
       "      <th></th>\n",
       "      <th>nulls</th>\n",
       "    </tr>\n",
       "  </thead>\n",
       "  <tbody>\n",
       "    <tr>\n",
       "      <th>BsmtQual</th>\n",
       "      <td>37</td>\n",
       "    </tr>\n",
       "    <tr>\n",
       "      <th>BsmtCond</th>\n",
       "      <td>37</td>\n",
       "    </tr>\n",
       "    <tr>\n",
       "      <th>BsmtExposure</th>\n",
       "      <td>38</td>\n",
       "    </tr>\n",
       "    <tr>\n",
       "      <th>BsmtFinType1</th>\n",
       "      <td>37</td>\n",
       "    </tr>\n",
       "    <tr>\n",
       "      <th>FireplaceQu</th>\n",
       "      <td>684</td>\n",
       "    </tr>\n",
       "  </tbody>\n",
       "</table>\n",
       "</div>"
      ],
      "text/plain": [
       "              nulls\n",
       "BsmtQual         37\n",
       "BsmtCond         37\n",
       "BsmtExposure     38\n",
       "BsmtFinType1     37\n",
       "FireplaceQu     684"
      ]
     },
     "execution_count": 12,
     "metadata": {},
     "output_type": "execute_result"
    }
   ],
   "source": [
    "def check_cols_with_missing(df):\n",
    "    nulls = df.isnull().sum()[df.isnull().any()==True]\n",
    "    df_output = pd.DataFrame({\n",
    "        \"nulls\":nulls})   \n",
    "    return df_output\n",
    "\n",
    "check_cols_with_missing(housing[ordinal_columns])"
   ]
  },
  {
   "cell_type": "markdown",
   "id": "6dc3b6d8-ac62-4001-a905-181460cb4572",
   "metadata": {
    "gradient": {
     "editing": false,
     "id": "6dc3b6d8-ac62-4001-a905-181460cb4572",
     "kernelId": "9ac81ae2-16a2-425a-bee3-0c27193c91cd"
    }
   },
   "source": [
    "Missing values are a subcategory in these columns. It indicates the absence of a basement or a fireplace in the home. As a result, we'll classify these missing values using the lowest ordinal value.\n",
    "\n",
    "We'll fill them in with an obvious placeholder first, because the OrdinalEncoder can't work if there are missing values.\n",
    "\n",
    "When using SKLearn to create a Pipeline, any object in the Pipeline must be able to use the fit and transform methods. FunctionTransformer is used to accomplish this. We can use FunctionTransformer to create a custom function that can fit and transform data."
   ]
  },
  {
   "cell_type": "code",
   "execution_count": 13,
   "id": "40059da8-c2da-4e01-acb0-9ba9bc2efe2e",
   "metadata": {
    "gradient": {
     "editing": false,
     "id": "40059da8-c2da-4e01-acb0-9ba9bc2efe2e",
     "kernelId": "9ac81ae2-16a2-425a-bee3-0c27193c91cd"
    }
   },
   "outputs": [],
   "source": [
    "# This is the pandas way of filling in the missing values. However, we need to create a function to include in our Pipeline\n",
    "housing_ordinal = housing[ordinal_columns].fillna('N_A').copy()"
   ]
  },
  {
   "cell_type": "code",
   "execution_count": 14,
   "id": "755d80d8-1c20-4f71-9498-fd7dbc97c5a5",
   "metadata": {
    "gradient": {
     "editing": false,
     "id": "755d80d8-1c20-4f71-9498-fd7dbc97c5a5",
     "kernelId": "9ac81ae2-16a2-425a-bee3-0c27193c91cd"
    }
   },
   "outputs": [],
   "source": [
    "# Creating the custom function\n",
    "\n",
    "# Make a function\n",
    "def impute_categ_nulls(df):\n",
    "    df = df.fillna(\"N_A\")\n",
    "    return df\n",
    "\n",
    "# Import the FunctionTransformer\n",
    "from sklearn.preprocessing import FunctionTransformer\n",
    "\n",
    "# Convert the function using the FunctionTransformer\n",
    "cat_imputer = FunctionTransformer(impute_categ_nulls, validate=False)"
   ]
  },
  {
   "cell_type": "markdown",
   "id": "b87f2dd8-18aa-4b5b-aa56-9c2d1f2d822d",
   "metadata": {
    "gradient": {
     "editing": false,
     "id": "b87f2dd8-18aa-4b5b-aa56-9c2d1f2d822d",
     "kernelId": "9ac81ae2-16a2-425a-bee3-0c27193c91cd"
    }
   },
   "source": [
    "Now we write out the categories we need to transform from each column"
   ]
  },
  {
   "cell_type": "code",
   "execution_count": 15,
   "id": "a7198f9c-e26d-4ddd-b421-c9279165555b",
   "metadata": {
    "gradient": {
     "editing": false,
     "id": "a7198f9c-e26d-4ddd-b421-c9279165555b",
     "kernelId": "9ac81ae2-16a2-425a-bee3-0c27193c91cd"
    }
   },
   "outputs": [],
   "source": [
    "# Determine the order in which their categories should be placed (must be done manually, otherwise would be ordered arbitrarily)\n",
    "ExterQual_cats = [\"Po\", \"Fa\", \"TA\", \"Gd\", \"Ex\"]\n",
    "ExterCond_cats = [\"Po\", \"Fa\", \"TA\", \"Gd\", \"Ex\"]\n",
    "BsmtQual_cats = [\"N_A\", \"Po\", \"Fa\", \"TA\", \"Gd\", \"Ex\"]\n",
    "BsmtCond_cats = [\"N_A\", \"Po\", \"Fa\", \"TA\", \"Gd\", \"Ex\"]\n",
    "BsmtExposure_cats = [\"N_A\", \"No\", \"Mn\", \"Av\", \"Gd\"]\n",
    "BsmtFinType1_cats = [\"N_A\", \"Unf\", \"LwQ\", \"Rec\", \"BLQ\", \"ALQ\", \"GLQ\"]\n",
    "KitchenQual_cats = [\"Po\", \"Fa\", \"TA\", \"Gd\", \"Ex\"]\n",
    "FireplaceQu_cats = [\"N_A\", \"Po\", \"Fa\", \"TA\", \"Gd\", \"Ex\"]\n",
    "\n",
    "cats_ord = [ExterQual_cats, ExterCond_cats, BsmtQual_cats,\n",
    "            BsmtCond_cats, BsmtExposure_cats, BsmtFinType1_cats,\n",
    "            KitchenQual_cats, FireplaceQu_cats,]"
   ]
  },
  {
   "cell_type": "code",
   "execution_count": 16,
   "id": "6bfb5e10-b29f-4ad5-9200-d9893f4c22b3",
   "metadata": {
    "gradient": {
     "editing": false,
     "id": "6bfb5e10-b29f-4ad5-9200-d9893f4c22b3",
     "kernelId": "9ac81ae2-16a2-425a-bee3-0c27193c91cd"
    }
   },
   "outputs": [],
   "source": [
    "ord_encoder = OrdinalEncoder(categories=cats_ord)"
   ]
  },
  {
   "cell_type": "markdown",
   "id": "cf5d0d8c-0ba8-4f99-8982-2dabbd361384",
   "metadata": {
    "gradient": {
     "editing": false,
     "id": "cf5d0d8c-0ba8-4f99-8982-2dabbd361384",
     "kernelId": "9ac81ae2-16a2-425a-bee3-0c27193c91cd"
    }
   },
   "source": [
    "# Including Ordinal Encoder in to our pipeline\n",
    "\n",
    "Again we need to ColumnTransform first (as we are transforming only part of our data), then we include the ColumnTransformer in to our Pipeline (where we transform all the data as one)"
   ]
  },
  {
   "cell_type": "code",
   "execution_count": 17,
   "id": "355194a9-be0b-4ac0-8879-5b89312c9438",
   "metadata": {
    "gradient": {
     "editing": false,
     "id": "355194a9-be0b-4ac0-8879-5b89312c9438",
     "kernelId": "9ac81ae2-16a2-425a-bee3-0c27193c91cd"
    }
   },
   "outputs": [],
   "source": [
    "X = housing.drop(columns=\"Expensive\")\n",
    "y = housing[\"Expensive\"]"
   ]
  },
  {
   "cell_type": "code",
   "execution_count": 18,
   "id": "0077587c-770e-4c6d-af02-9437c3fe6534",
   "metadata": {
    "gradient": {
     "editing": false,
     "id": "0077587c-770e-4c6d-af02-9437c3fe6534",
     "kernelId": "9ac81ae2-16a2-425a-bee3-0c27193c91cd"
    }
   },
   "outputs": [
    {
     "data": {
      "text/plain": [
       "{'decisiontreeclassifier__criterion': 'gini',\n",
       " 'decisiontreeclassifier__max_depth': 5,\n",
       " 'decisiontreeclassifier__min_samples_leaf': 5,\n",
       " 'decisiontreeclassifier__min_samples_split': 6}"
      ]
     },
     "execution_count": 18,
     "metadata": {},
     "output_type": "execute_result"
    }
   ],
   "source": [
    "from sklearn.preprocessing import OrdinalEncoder\n",
    "\n",
    "numeric_features = list(X.select_dtypes(exclude=[\"object\"]))\n",
    "\n",
    "numeric_pipe = make_pipeline(\n",
    "    SimpleImputer(strategy=\"median\")\n",
    ")\n",
    "\n",
    "categorical_features_ordinal = ordinal_columns\n",
    "categorical_transformer_ordinal = OrdinalEncoder(categories=cats_ord)\n",
    "categorical_features_onehot = list(set(list(X.select_dtypes(include=[\"object\"]))) - set(ordinal_columns))\n",
    "categorical_transformer_onehot = OneHotEncoder(handle_unknown=\"ignore\")\n",
    "\n",
    "categorical_preprocessor = ColumnTransformer(\n",
    "    transformers=[\n",
    "        (\"cat_ordinal\", categorical_transformer_ordinal, categorical_features_ordinal),\n",
    "        (\"cat_onehot\", categorical_transformer_onehot, categorical_features_onehot),\n",
    "    ]\n",
    ")\n",
    "\n",
    "categorical_pipe = make_pipeline(\n",
    "    cat_imputer,\n",
    "    categorical_preprocessor\n",
    ")\n",
    "\n",
    "\n",
    "cat_num_preprocessor = ColumnTransformer(\n",
    "    transformers=[\n",
    "        (\"num\", numeric_pipe, numeric_features),\n",
    "        (\"cat_pipe\", categorical_pipe, list(X.select_dtypes(include=[\"object\"]))),\n",
    "    ]\n",
    ")\n",
    "\n",
    "final_pipe = make_pipeline(\n",
    "    cat_num_preprocessor,\n",
    "    StandardScaler(),\n",
    "    DecisionTreeClassifier()\n",
    ")\n",
    "\n",
    "pipe_params = {\n",
    "    'decisiontreeclassifier__criterion': ['squared_error'],\n",
    "    'decisiontreeclassifier__max_depth': range(5, 50, 5),\n",
    "    'decisiontreeclassifier__min_samples_split': [2, 4, 6],\n",
    "    'decisiontreeclassifier__min_samples_leaf': [1, 2, 5]\n",
    "}\n",
    "\n",
    "clf = GridSearchCV(final_pipe, pipe_params, cv = 10, scoring='f1')\n",
    "\n",
    "X_train, X_test, y_train, y_test = train_test_split(X, y, test_size=0.2, random_state=0)\n",
    "\n",
    "clf.fit(X_train, y_train)\n",
    "\n",
    "clf.best_params_"
   ]
  },
  {
   "cell_type": "code",
   "execution_count": 19,
   "id": "fa83239d-9f07-4835-92d8-1c87f0bf48a8",
   "metadata": {
    "gradient": {
     "editing": false,
     "id": "fa83239d-9f07-4835-92d8-1c87f0bf48a8",
     "kernelId": "9ac81ae2-16a2-425a-bee3-0c27193c91cd"
    }
   },
   "outputs": [
    {
     "data": {
      "text/plain": [
       "0.9037800687285223"
      ]
     },
     "execution_count": 19,
     "metadata": {},
     "output_type": "execute_result"
    }
   ],
   "source": [
    "y_pred = clf.predict(X_test)\n",
    "\n",
    "dtc_accuracy = accuracy_score(y_test, y_pred)\n",
    "dtc_accuracy"
   ]
  },
  {
   "cell_type": "code",
   "execution_count": 20,
   "id": "fa6104ce-8ed7-4e54-acdb-a39bf3191b4a",
   "metadata": {
    "collapsed": false,
    "gradient": {
     "editing": false,
     "id": "fa6104ce-8ed7-4e54-acdb-a39bf3191b4a",
     "kernelId": "9ac81ae2-16a2-425a-bee3-0c27193c91cd",
     "source_hidden": false
    },
    "jupyter": {
     "outputs_hidden": false
    }
   },
   "outputs": [
    {
     "data": {
      "text/plain": [
       "<sklearn.metrics._plot.confusion_matrix.ConfusionMatrixDisplay at 0x7f7efc654100>"
      ]
     },
     "execution_count": 20,
     "metadata": {},
     "output_type": "execute_result"
    },
    {
     "data": {
      "image/png": "[encoded data removed]",
      "text/plain": [
       "<Figure size 432x288 with 2 Axes>"
      ]
     },
     "metadata": {
      "needs_background": "light"
     },
     "output_type": "display_data"
    }
   ],
   "source": [
    "ConfusionMatrixDisplay.from_predictions(y_test, y_pred)"
   ]
  }
 ],
 "metadata": {
  "kernelspec": {
   "display_name": "Python 3",
   "language": "python",
   "name": "python3"
  },
  "language_info": {
   "codemirror_mode": {
    "name": "ipython",
    "version": 3
   },
   "file_extension": ".py",
   "mimetype": "text/x-python",
   "name": "python",
   "nbconvert_exporter": "python",
   "pygments_lexer": "ipython3",
   "version": "3.8.8"
  }
 },
 "nbformat": 4,
 "nbformat_minor": 5
}
