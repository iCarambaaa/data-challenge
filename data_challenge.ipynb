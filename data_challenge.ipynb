{
 "cells": [
  {
   "cell_type": "code",
   "execution_count": 1,
   "metadata": {},
   "outputs": [
    {
     "data": {
      "text/html": [
       "<div>\n",
       "<style scoped>\n",
       "    .dataframe tbody tr th:only-of-type {\n",
       "        vertical-align: middle;\n",
       "    }\n",
       "\n",
       "    .dataframe tbody tr th {\n",
       "        vertical-align: top;\n",
       "    }\n",
       "\n",
       "    .dataframe thead th {\n",
       "        text-align: right;\n",
       "    }\n",
       "</style>\n",
       "<table border=\"1\" class=\"dataframe\">\n",
       "  <thead>\n",
       "    <tr style=\"text-align: right;\">\n",
       "      <th></th>\n",
       "      <th>LotArea</th>\n",
       "      <th>LotFrontage</th>\n",
       "      <th>TotalBsmtSF</th>\n",
       "      <th>BedroomAbvGr</th>\n",
       "      <th>Fireplaces</th>\n",
       "      <th>PoolArea</th>\n",
       "      <th>GarageCars</th>\n",
       "      <th>WoodDeckSF</th>\n",
       "      <th>ScreenPorch</th>\n",
       "      <th>Expensive</th>\n",
       "      <th>...</th>\n",
       "      <th>GarageType</th>\n",
       "      <th>GarageFinish</th>\n",
       "      <th>GarageQual</th>\n",
       "      <th>GarageCond</th>\n",
       "      <th>PavedDrive</th>\n",
       "      <th>PoolQC</th>\n",
       "      <th>Fence</th>\n",
       "      <th>MiscFeature</th>\n",
       "      <th>SaleType</th>\n",
       "      <th>SaleCondition</th>\n",
       "    </tr>\n",
       "  </thead>\n",
       "  <tbody>\n",
       "    <tr>\n",
       "      <th>0</th>\n",
       "      <td>8450</td>\n",
       "      <td>65.0</td>\n",
       "      <td>856</td>\n",
       "      <td>3</td>\n",
       "      <td>0</td>\n",
       "      <td>0</td>\n",
       "      <td>2</td>\n",
       "      <td>0</td>\n",
       "      <td>0</td>\n",
       "      <td>0</td>\n",
       "      <td>...</td>\n",
       "      <td>Attchd</td>\n",
       "      <td>RFn</td>\n",
       "      <td>TA</td>\n",
       "      <td>TA</td>\n",
       "      <td>Y</td>\n",
       "      <td>NaN</td>\n",
       "      <td>NaN</td>\n",
       "      <td>NaN</td>\n",
       "      <td>WD</td>\n",
       "      <td>Normal</td>\n",
       "    </tr>\n",
       "    <tr>\n",
       "      <th>1</th>\n",
       "      <td>9600</td>\n",
       "      <td>80.0</td>\n",
       "      <td>1262</td>\n",
       "      <td>3</td>\n",
       "      <td>1</td>\n",
       "      <td>0</td>\n",
       "      <td>2</td>\n",
       "      <td>298</td>\n",
       "      <td>0</td>\n",
       "      <td>0</td>\n",
       "      <td>...</td>\n",
       "      <td>Attchd</td>\n",
       "      <td>RFn</td>\n",
       "      <td>TA</td>\n",
       "      <td>TA</td>\n",
       "      <td>Y</td>\n",
       "      <td>NaN</td>\n",
       "      <td>NaN</td>\n",
       "      <td>NaN</td>\n",
       "      <td>WD</td>\n",
       "      <td>Normal</td>\n",
       "    </tr>\n",
       "    <tr>\n",
       "      <th>2</th>\n",
       "      <td>11250</td>\n",
       "      <td>68.0</td>\n",
       "      <td>920</td>\n",
       "      <td>3</td>\n",
       "      <td>1</td>\n",
       "      <td>0</td>\n",
       "      <td>2</td>\n",
       "      <td>0</td>\n",
       "      <td>0</td>\n",
       "      <td>0</td>\n",
       "      <td>...</td>\n",
       "      <td>Attchd</td>\n",
       "      <td>RFn</td>\n",
       "      <td>TA</td>\n",
       "      <td>TA</td>\n",
       "      <td>Y</td>\n",
       "      <td>NaN</td>\n",
       "      <td>NaN</td>\n",
       "      <td>NaN</td>\n",
       "      <td>WD</td>\n",
       "      <td>Normal</td>\n",
       "    </tr>\n",
       "    <tr>\n",
       "      <th>3</th>\n",
       "      <td>9550</td>\n",
       "      <td>60.0</td>\n",
       "      <td>756</td>\n",
       "      <td>3</td>\n",
       "      <td>1</td>\n",
       "      <td>0</td>\n",
       "      <td>3</td>\n",
       "      <td>0</td>\n",
       "      <td>0</td>\n",
       "      <td>0</td>\n",
       "      <td>...</td>\n",
       "      <td>Detchd</td>\n",
       "      <td>Unf</td>\n",
       "      <td>TA</td>\n",
       "      <td>TA</td>\n",
       "      <td>Y</td>\n",
       "      <td>NaN</td>\n",
       "      <td>NaN</td>\n",
       "      <td>NaN</td>\n",
       "      <td>WD</td>\n",
       "      <td>Abnorml</td>\n",
       "    </tr>\n",
       "    <tr>\n",
       "      <th>4</th>\n",
       "      <td>14260</td>\n",
       "      <td>84.0</td>\n",
       "      <td>1145</td>\n",
       "      <td>4</td>\n",
       "      <td>1</td>\n",
       "      <td>0</td>\n",
       "      <td>3</td>\n",
       "      <td>192</td>\n",
       "      <td>0</td>\n",
       "      <td>0</td>\n",
       "      <td>...</td>\n",
       "      <td>Attchd</td>\n",
       "      <td>RFn</td>\n",
       "      <td>TA</td>\n",
       "      <td>TA</td>\n",
       "      <td>Y</td>\n",
       "      <td>NaN</td>\n",
       "      <td>NaN</td>\n",
       "      <td>NaN</td>\n",
       "      <td>WD</td>\n",
       "      <td>Normal</td>\n",
       "    </tr>\n",
       "  </tbody>\n",
       "</table>\n",
       "<p>5 rows × 81 columns</p>\n",
       "</div>"
      ],
      "text/plain": [
       "   LotArea  LotFrontage  TotalBsmtSF  BedroomAbvGr  Fireplaces  PoolArea  \\\n",
       "0     8450         65.0          856             3           0         0   \n",
       "1     9600         80.0         1262             3           1         0   \n",
       "2    11250         68.0          920             3           1         0   \n",
       "3     9550         60.0          756             3           1         0   \n",
       "4    14260         84.0         1145             4           1         0   \n",
       "\n",
       "   GarageCars  WoodDeckSF  ScreenPorch  Expensive  ... GarageType  \\\n",
       "0           2           0            0          0  ...     Attchd   \n",
       "1           2         298            0          0  ...     Attchd   \n",
       "2           2           0            0          0  ...     Attchd   \n",
       "3           3           0            0          0  ...     Detchd   \n",
       "4           3         192            0          0  ...     Attchd   \n",
       "\n",
       "  GarageFinish GarageQual GarageCond PavedDrive PoolQC Fence MiscFeature  \\\n",
       "0          RFn         TA         TA          Y    NaN   NaN         NaN   \n",
       "1          RFn         TA         TA          Y    NaN   NaN         NaN   \n",
       "2          RFn         TA         TA          Y    NaN   NaN         NaN   \n",
       "3          Unf         TA         TA          Y    NaN   NaN         NaN   \n",
       "4          RFn         TA         TA          Y    NaN   NaN         NaN   \n",
       "\n",
       "  SaleType SaleCondition  \n",
       "0       WD        Normal  \n",
       "1       WD        Normal  \n",
       "2       WD        Normal  \n",
       "3       WD       Abnorml  \n",
       "4       WD        Normal  \n",
       "\n",
       "[5 rows x 81 columns]"
      ]
     },
     "execution_count": 1,
     "metadata": {},
     "output_type": "execute_result"
    }
   ],
   "source": [
    "# Load data training set\n",
    "import pandas as pd\n",
    "\n",
    "housing = pd.read_csv('housing-classification-iter6.csv')\n",
    "housing.head()"
   ]
  },
  {
   "cell_type": "code",
   "execution_count": 2,
   "metadata": {},
   "outputs": [
    {
     "data": {
      "text/plain": [
       "LotArea            int64\n",
       "LotFrontage      float64\n",
       "TotalBsmtSF        int64\n",
       "BedroomAbvGr       int64\n",
       "Fireplaces         int64\n",
       "                  ...   \n",
       "PoolQC            object\n",
       "Fence             object\n",
       "MiscFeature       object\n",
       "SaleType          object\n",
       "SaleCondition     object\n",
       "Length: 81, dtype: object"
      ]
     },
     "execution_count": 2,
     "metadata": {},
     "output_type": "execute_result"
    }
   ],
   "source": [
    "# Check data types\n",
    "housing.dtypes"
   ]
  },
  {
   "cell_type": "code",
   "execution_count": 3,
   "metadata": {},
   "outputs": [
    {
     "data": {
      "text/plain": [
       "LotArea             0\n",
       "LotFrontage       259\n",
       "TotalBsmtSF         0\n",
       "BedroomAbvGr        0\n",
       "Fireplaces          0\n",
       "                 ... \n",
       "PoolQC           1453\n",
       "Fence            1179\n",
       "MiscFeature      1406\n",
       "SaleType            0\n",
       "SaleCondition       0\n",
       "Length: 81, dtype: int64"
      ]
     },
     "execution_count": 3,
     "metadata": {},
     "output_type": "execute_result"
    }
   ],
   "source": [
    "housing.isna().sum()"
   ]
  },
  {
   "cell_type": "code",
   "execution_count": 11,
   "metadata": {},
   "outputs": [
    {
     "name": "stdout",
     "output_type": "stream",
     "text": [
      "<class 'pandas.core.frame.DataFrame'>\n",
      "Int64Index: 1460 entries, 0 to 1459\n",
      "Data columns (total 81 columns):\n",
      " #   Column         Non-Null Count  Dtype  \n",
      "---  ------         --------------  -----  \n",
      " 0   LotArea        1460 non-null   int64  \n",
      " 1   LotFrontage    1201 non-null   float64\n",
      " 2   TotalBsmtSF    1460 non-null   int64  \n",
      " 3   BedroomAbvGr   1460 non-null   int64  \n",
      " 4   Fireplaces     1460 non-null   int64  \n",
      " 5   PoolArea       1460 non-null   int64  \n",
      " 6   GarageCars     1460 non-null   int64  \n",
      " 7   WoodDeckSF     1460 non-null   int64  \n",
      " 8   ScreenPorch    1460 non-null   int64  \n",
      " 9   Expensive      1460 non-null   int64  \n",
      " 10  MSZoning       1460 non-null   object \n",
      " 11  Condition1     1460 non-null   object \n",
      " 12  Heating        1460 non-null   object \n",
      " 13  Street         1460 non-null   object \n",
      " 14  CentralAir     1460 non-null   object \n",
      " 15  Foundation     1460 non-null   object \n",
      " 16  ExterQual      1460 non-null   object \n",
      " 17  ExterCond      1460 non-null   object \n",
      " 18  BsmtQual       1423 non-null   object \n",
      " 19  BsmtCond       1423 non-null   object \n",
      " 20  BsmtExposure   1422 non-null   object \n",
      " 21  BsmtFinType1   1423 non-null   object \n",
      " 22  KitchenQual    1460 non-null   object \n",
      " 23  FireplaceQu    770 non-null    object \n",
      " 24  MSSubClass     1460 non-null   int64  \n",
      " 25  OverallQual    1460 non-null   int64  \n",
      " 26  OverallCond    1460 non-null   int64  \n",
      " 27  YearBuilt      1460 non-null   int64  \n",
      " 28  YearRemodAdd   1460 non-null   int64  \n",
      " 29  MasVnrArea     1452 non-null   float64\n",
      " 30  BsmtFinSF1     1460 non-null   int64  \n",
      " 31  BsmtFinSF2     1460 non-null   int64  \n",
      " 32  BsmtUnfSF      1460 non-null   int64  \n",
      " 33  1stFlrSF       1460 non-null   int64  \n",
      " 34  2ndFlrSF       1460 non-null   int64  \n",
      " 35  LowQualFinSF   1460 non-null   int64  \n",
      " 36  GrLivArea      1460 non-null   int64  \n",
      " 37  BsmtFullBath   1460 non-null   int64  \n",
      " 38  BsmtHalfBath   1460 non-null   int64  \n",
      " 39  FullBath       1460 non-null   int64  \n",
      " 40  HalfBath       1460 non-null   int64  \n",
      " 41  KitchenAbvGr   1460 non-null   int64  \n",
      " 42  TotRmsAbvGrd   1460 non-null   int64  \n",
      " 43  GarageYrBlt    1379 non-null   float64\n",
      " 44  GarageArea     1460 non-null   int64  \n",
      " 45  OpenPorchSF    1460 non-null   int64  \n",
      " 46  EnclosedPorch  1460 non-null   int64  \n",
      " 47  3SsnPorch      1460 non-null   int64  \n",
      " 48  MiscVal        1460 non-null   int64  \n",
      " 49  MoSold         1460 non-null   int64  \n",
      " 50  YrSold         1460 non-null   int64  \n",
      " 51  Id             1460 non-null   int64  \n",
      " 52  Alley          91 non-null     object \n",
      " 53  LotShape       1460 non-null   object \n",
      " 54  LandContour    1460 non-null   object \n",
      " 55  Utilities      1460 non-null   object \n",
      " 56  LotConfig      1460 non-null   object \n",
      " 57  LandSlope      1460 non-null   object \n",
      " 58  Neighborhood   1460 non-null   object \n",
      " 59  Condition2     1460 non-null   object \n",
      " 60  BldgType       1460 non-null   object \n",
      " 61  HouseStyle     1460 non-null   object \n",
      " 62  RoofStyle      1460 non-null   object \n",
      " 63  RoofMatl       1460 non-null   object \n",
      " 64  Exterior1st    1460 non-null   object \n",
      " 65  Exterior2nd    1460 non-null   object \n",
      " 66  MasVnrType     1452 non-null   object \n",
      " 67  BsmtFinType2   1422 non-null   object \n",
      " 68  HeatingQC      1460 non-null   object \n",
      " 69  Electrical     1459 non-null   object \n",
      " 70  Functional     1460 non-null   object \n",
      " 71  GarageType     1379 non-null   object \n",
      " 72  GarageFinish   1379 non-null   object \n",
      " 73  GarageQual     1379 non-null   object \n",
      " 74  GarageCond     1379 non-null   object \n",
      " 75  PavedDrive     1460 non-null   object \n",
      " 76  PoolQC         7 non-null      object \n",
      " 77  Fence          281 non-null    object \n",
      " 78  MiscFeature    54 non-null     object \n",
      " 79  SaleType       1460 non-null   object \n",
      " 80  SaleCondition  1460 non-null   object \n",
      "dtypes: float64(3), int64(35), object(43)\n",
      "memory usage: 935.3+ KB\n"
     ]
    }
   ],
   "source": [
    "housing.info()"
   ]
  },
  {
   "cell_type": "markdown",
   "metadata": {},
   "source": [
    "## Create train and test\n",
    "\n"
   ]
  },
  {
   "cell_type": "code",
   "execution_count": 10,
   "metadata": {},
   "outputs": [],
   "source": [
    "# Split the data\n",
    "from sklearn.model_selection import train_test_split\n",
    "\n",
    "housing.drop_duplicates(inplace=True)\n",
    "\n",
    "X = housing.drop(columns=['Expensive', 'Id'])\n",
    "y = housing.filter(['Expensive'])\n",
    "\n",
    "X_train, X_test, y_train, y_test = train_test_split(X, y, train_size=.75, random_state=42)"
   ]
  },
  {
   "cell_type": "code",
   "execution_count": 9,
   "metadata": {},
   "outputs": [
    {
     "data": {
      "text/plain": [
       "0"
      ]
     },
     "execution_count": 9,
     "metadata": {},
     "output_type": "execute_result"
    }
   ],
   "source": [
    "# Check for duplicated rows\n",
    "housing.duplicated().sum()"
   ]
  },
  {
   "cell_type": "code",
   "execution_count": 31,
   "metadata": {},
   "outputs": [],
   "source": [
    "# Create diffrent column categories\n",
    "num_col = [\"LotArea\", \"LotFrontage\", \"TotalBsmtSF\", \"BedroomAbvGr\", \"Fireplaces\", \"PoolArea\", \"GarageCars\", \"WoodDeckSF\", \"ScreenPorch\", \"MasVnrArea\", \"BsmtFinSF1\", \"BsmtFinSF2\", \"BsmtUnfSF\",\n",
    "           \"1stFlrSF\", \"2ndFlrSF\", \"LowQualFinSF\", \"GrLivArea\", \"BsmtFullBath\", \"BsmtHalfBath\", \"FullBath\", \"HalfBath\", \"KitchenAbvGr\", \"TotRmsAbvGrd\", \"GarageArea\", \"OpenPorchSF\",\n",
    "            \"EnclosedPorch\", \"3SsnPorch\", \"MiscVal\", \"MoSold\", \"YearBuilt\", \"YearRemodAdd\", \"GarageYrBlt\", \"YrSold\"] \n",
    "cat_col = [\"Foundation\", \"CentralAir\", \"Street\", \"Heating\", \"Condition1\", \"MSZoning\", \"MSSubClass\",\"Alley\", \"LotShape\", \"LandContour\",\n",
    "            \"Utilities\", \"LotConfig\", \"Neighborhood\", \"Condition2\", \"BldgType\", \"HouseStyle\", \"RoofStyle\", \"RoofMatl\", \"Exterior1st\", \"Exterior2nd\", \"MasVnrType\", \"Electrical\", \"GarageType\",\n",
    "            \"MiscFeature\", \"SaleType\", \"SaleCondition\"]\n",
    "ord_col = [\"ExterQual\", \"ExterCond\", \"BsmtQual\", \"BsmtCond\", \"BsmtExposure\", \"BsmtFinType1\",\"KitchenQual\", \"FireplaceQu\", \"OverallQual\", \"OverallCond\", \"LandSlope\", \"BsmtFinType2\", \"HeatingQC\",\n",
    "            \"Functional\", \"GarageFinish\", \"GarageQual\", \"GarageCond\", \"PavedDrive\", \"PoolQC\", \"Fence\"]"
   ]
  },
  {
   "cell_type": "markdown",
   "metadata": {},
   "source": [
    "## Build the pipeline"
   ]
  },
  {
   "cell_type": "code",
   "execution_count": 24,
   "metadata": {},
   "outputs": [],
   "source": [
    "from sklearn.compose import ColumnTransformer\n",
    "from sklearn.pipeline import Pipeline\n",
    "from sklearn.preprocessing import RobustScaler, OneHotEncoder, OrdinalEncoder\n",
    "from sklearn.impute import SimpleImputer\n",
    "from sklearn.tree import DecisionTreeClassifier\n",
    "from sklearn.metrics import accuracy_score"
   ]
  },
  {
   "cell_type": "code",
   "execution_count": 33,
   "metadata": {},
   "outputs": [
    {
     "data": {
      "text/plain": [
       "0.9205479452054794"
      ]
     },
     "execution_count": 33,
     "metadata": {},
     "output_type": "execute_result"
    }
   ],
   "source": [
    "# Build three preprocessor pipelines \n",
    "numeric_transformer = Pipeline(\n",
    "    steps=[(\"imputer\", SimpleImputer(strategy=\"median\")), (\"scaler\", RobustScaler())]\n",
    ")\n",
    "\n",
    "categorical_transformer = Pipeline(\n",
    "   steps=[(\"imputer\", SimpleImputer(strategy=\"constant\", fill_value=\"None\")), (\"ohe\", OneHotEncoder(sparse=False, handle_unknown='ignore'))]\n",
    ")\n",
    "\n",
    "ordinal_transformer = Pipeline(\n",
    "   steps=[(\"imputer\", SimpleImputer(strategy=\"constant\", fill_value=\"None\")), (\"encode\", OrdinalEncoder())]\n",
    ")\n",
    "\n",
    "# Combine them\n",
    "preprocessor = ColumnTransformer(\n",
    "    transformers=[\n",
    "        (\"num\", numeric_transformer, num_col),\n",
    "        (\"cat\", categorical_transformer, cat_col),\n",
    "        (\"ord\", ordinal_transformer, ord_col),\n",
    "    ]\n",
    ")\n",
    "\n",
    "# Now we have a full prediction pipeline\n",
    "pipe = Pipeline(\n",
    "    steps=[(\"preprocessor\", preprocessor), (\"classifier\", DecisionTreeClassifier(random_state=42))]\n",
    ")\n",
    "\n",
    "pipe.fit(X_train, y_train)\n",
    "preds = pipe.predict(X_test)\n",
    "accuracy_score(preds, y_test)"
   ]
  },
  {
   "cell_type": "code",
   "execution_count": 22,
   "metadata": {},
   "outputs": [
    {
     "data": {
      "text/plain": [
       "ExterQual          0\n",
       "ExterCond          0\n",
       "BsmtQual          37\n",
       "BsmtCond          37\n",
       "BsmtExposure      38\n",
       "BsmtFinType1      37\n",
       "KitchenQual        0\n",
       "FireplaceQu      690\n",
       "OverallQual        0\n",
       "OverallCond        0\n",
       "LandSlope          0\n",
       "BsmtFinType2      38\n",
       "HeatingQC          0\n",
       "Functional         0\n",
       "GarageFinish      81\n",
       "GarageQual        81\n",
       "GarageCond        81\n",
       "PavedDrive         0\n",
       "PoolQC          1453\n",
       "Fence           1179\n",
       "dtype: int64"
      ]
     },
     "execution_count": 22,
     "metadata": {},
     "output_type": "execute_result"
    }
   ],
   "source": [
    "X[ord_col].isna().sum()"
   ]
  }
 ],
 "metadata": {
  "interpreter": {
   "hash": "b3ba2566441a7c06988d0923437866b63cedc61552a5af99d1f4fb67d367b25f"
  },
  "kernelspec": {
   "display_name": "Python 3.9.7 ('base')",
   "language": "python",
   "name": "python3"
  },
  "language_info": {
   "codemirror_mode": {
    "name": "ipython",
    "version": 3
   },
   "file_extension": ".py",
   "mimetype": "text/x-python",
   "name": "python",
   "nbconvert_exporter": "python",
   "pygments_lexer": "ipython3",
   "version": "3.9.7"
  },
  "orig_nbformat": 4
 },
 "nbformat": 4,
 "nbformat_minor": 2
}
